{
  "nbformat": 4,
  "nbformat_minor": 0,
  "metadata": {
    "colab": {
      "name": "2020-03-01-my_year_on_spotify.ipynb ",
      "provenance": []
    },
    "kernelspec": {
      "name": "python3",
      "display_name": "Python 3"
    }
  },
  "cells": [
    {
      "cell_type": "markdown",
      "metadata": {
        "id": "s7iuMtxqNLEM",
        "colab_type": "text"
      },
      "source": [
        "# My Año en Spotify - Tatiii's Challengue\n",
        "\n",
        "> Una manera facil de ganar juguetes legos a una amiga.\n",
        "\n",
        "Inspirado por [el post de Nerudista en Tacos de datos](https://tacosdedatos.com/dueno-de-mis-datos-spotify) y una manera facil de ganar muñecos legos a una amiga.\n",
        "\n",
        "- toc: true \n",
        "- badges: true\n",
        "- comments: true\n",
        "- author: Stanley Salvatierra\n",
        "- image: images/lego.png\n",
        "- categories: [jupyter, spotify, python]"
      ]
    },
    {
      "cell_type": "markdown",
      "metadata": {
        "id": "eZFli0wkZkNK",
        "colab_type": "text"
      },
      "source": [
        "> twitter: https://twitter.com/martinRenou/status/1228229683285639168"
      ]
    },
    {
      "cell_type": "markdown",
      "metadata": {
        "id": "3ZFvOENPNEEn",
        "colab_type": "text"
      },
      "source": [
        "Esto es una re-implementation del trabajo de [el post de Nerudista en Tacos de datos](https://tacosdedatos.com/dueno-de-mis-datos-spotify), tambien una manera de probarlo con mis datos de Spotify y ... `ganarle los legos del mes de Marzo a` `@MoonLover543`.\n",
        "\n",
        "\n",
        "> twitter: https://twitter.com/MoonLover543/status/1233100050219311104\n",
        "\n",
        "\n",
        "El procedimiento es el mismo explicado en el post original pero añado como bonus  el codigo para plotear los artistas que mas se escucha, esta al final del post."
      ]
    },
    {
      "cell_type": "markdown",
      "metadata": {
        "id": "j8UVFncGVuf1",
        "colab_type": "text"
      },
      "source": [
        "<figure>\n",
        "<center>\n",
        "  <img src=\"https://www.dropbox.com/s/1pbfee0oohmupzh/IMG_20200301_233847.jpg?raw=true\" width=\"200\">\n",
        "<figcaption>Lo que me todo del 1 de Marzo</figcaption></center>\n",
        "</figure>\n",
        "\n",
        "\n",
        "\n"
      ]
    },
    {
      "cell_type": "markdown",
      "metadata": {
        "id": "RJlg357Y7UQr",
        "colab_type": "text"
      },
      "source": [
        "# Mi año en Spotify"
      ]
    },
    {
      "cell_type": "markdown",
      "metadata": {
        "id": "76GOMGBKN_K2",
        "colab_type": "text"
      },
      "source": [
        "Voy a bajar mis datos desde mi dropbox personal y luego hacerle `unzip` al archivo original"
      ]
    },
    {
      "cell_type": "code",
      "metadata": {
        "id": "mmne0aUPOy9M",
        "colab_type": "code",
        "colab": {
          "base_uri": "https://localhost:8080/",
          "height": 454
        },
        "outputId": "0ecd83e2-5a33-4c36-e6d3-68eff48dc34e"
      },
      "source": [
        "!wget https://www.dropbox.com/s/bxmstnwtvr2si0j/MyData.zip"
      ],
      "execution_count": 32,
      "outputs": [
        {
          "output_type": "stream",
          "text": [
            "--2020-03-02 03:51:39--  https://www.dropbox.com/s/bxmstnwtvr2si0j/MyData.zip\n",
            "Resolving www.dropbox.com (www.dropbox.com)... 162.125.8.1, 2620:100:6016:1::a27d:101\n",
            "Connecting to www.dropbox.com (www.dropbox.com)|162.125.8.1|:443... connected.\n",
            "HTTP request sent, awaiting response... 301 Moved Permanently\n",
            "Location: /s/raw/bxmstnwtvr2si0j/MyData.zip [following]\n",
            "--2020-03-02 03:51:39--  https://www.dropbox.com/s/raw/bxmstnwtvr2si0j/MyData.zip\n",
            "Reusing existing connection to www.dropbox.com:443.\n",
            "HTTP request sent, awaiting response... 302 Found\n",
            "Location: https://ucc80e318b3163cc5b576223c431.dl.dropboxusercontent.com/cd/0/inline/AzJZNKBZF5rTpwyodUajjpFlFyMwlMoJ8P5iDrYnCO4zkCaMejQqSI5JPBUFgSpv_D-TYL_e_0BSaq1UZNEOa2UK2zgj6yr2ujDfO2A9JosRtSMlBTJlOl2QykU78-cycr8/file# [following]\n",
            "--2020-03-02 03:51:39--  https://ucc80e318b3163cc5b576223c431.dl.dropboxusercontent.com/cd/0/inline/AzJZNKBZF5rTpwyodUajjpFlFyMwlMoJ8P5iDrYnCO4zkCaMejQqSI5JPBUFgSpv_D-TYL_e_0BSaq1UZNEOa2UK2zgj6yr2ujDfO2A9JosRtSMlBTJlOl2QykU78-cycr8/file\n",
            "Resolving ucc80e318b3163cc5b576223c431.dl.dropboxusercontent.com (ucc80e318b3163cc5b576223c431.dl.dropboxusercontent.com)... 162.125.8.6, 2620:100:6016:6::a27d:106\n",
            "Connecting to ucc80e318b3163cc5b576223c431.dl.dropboxusercontent.com (ucc80e318b3163cc5b576223c431.dl.dropboxusercontent.com)|162.125.8.6|:443... connected.\n",
            "HTTP request sent, awaiting response... 302 FOUND\n",
            "Location: /cd/0/inline2/AzKjTqD-fD7_ErG0EEi-i3WCkon52RSV1muEcQWc4yk9MyI8Fs2O9olOcwnsMXFKY4tFXJzbpsqSaQwHMbCPkuWpb0et1hm1W-BIMBG3QHgADhUZmoHXRq8sv-8biDfHFs2CMs3mlsAhLmfAIAne5DbC1p_VjN21m-A9SCdsR1MUdjGi0KYr0N0nhTIjYlK7sqJc9UHkAbSRT8sNpBY3Q-Xn9bnn8hQhwWGbl2VeJuqRSa0aqs4CxttY_Box5999newSO-NrXOLGC7bNYWaNkbrbbKkGoI1G314qFiH0q6SJztspZDg6VBPHm0FdEQ2WSVvWWgfygqoZWNDWnAX1z839nNAAcWT8oYCGW5-xQF-2mA/file [following]\n",
            "--2020-03-02 03:51:40--  https://ucc80e318b3163cc5b576223c431.dl.dropboxusercontent.com/cd/0/inline2/AzKjTqD-fD7_ErG0EEi-i3WCkon52RSV1muEcQWc4yk9MyI8Fs2O9olOcwnsMXFKY4tFXJzbpsqSaQwHMbCPkuWpb0et1hm1W-BIMBG3QHgADhUZmoHXRq8sv-8biDfHFs2CMs3mlsAhLmfAIAne5DbC1p_VjN21m-A9SCdsR1MUdjGi0KYr0N0nhTIjYlK7sqJc9UHkAbSRT8sNpBY3Q-Xn9bnn8hQhwWGbl2VeJuqRSa0aqs4CxttY_Box5999newSO-NrXOLGC7bNYWaNkbrbbKkGoI1G314qFiH0q6SJztspZDg6VBPHm0FdEQ2WSVvWWgfygqoZWNDWnAX1z839nNAAcWT8oYCGW5-xQF-2mA/file\n",
            "Reusing existing connection to ucc80e318b3163cc5b576223c431.dl.dropboxusercontent.com:443.\n",
            "HTTP request sent, awaiting response... 200 OK\n",
            "Length: 765358 (747K) [application/zip]\n",
            "Saving to: ‘MyData.zip’\n",
            "\n",
            "MyData.zip          100%[===================>] 747.42K  3.56MB/s    in 0.2s    \n",
            "\n",
            "2020-03-02 03:51:40 (3.56 MB/s) - ‘MyData.zip’ saved [765358/765358]\n",
            "\n"
          ],
          "name": "stdout"
        }
      ]
    },
    {
      "cell_type": "code",
      "metadata": {
        "id": "Jj0-Q356O3xw",
        "colab_type": "code",
        "colab": {
          "base_uri": "https://localhost:8080/",
          "height": 34
        },
        "outputId": "c55c31a6-5fed-4361-bf2d-5514265e14ad"
      },
      "source": [
        "%ls\n",
        "%rm -rf MyData"
      ],
      "execution_count": 34,
      "outputs": [
        {
          "output_type": "stream",
          "text": [
            "\u001b[0m\u001b[01;34mMyData\u001b[0m/  MyData.zip  my_spotify_data.zip  \u001b[01;34msample_data\u001b[0m/\n"
          ],
          "name": "stdout"
        }
      ]
    },
    {
      "cell_type": "code",
      "metadata": {
        "id": "gDUvyrhUPPOx",
        "colab_type": "code",
        "colab": {
          "base_uri": "https://localhost:8080/",
          "height": 34
        },
        "outputId": "3845481e-a2a7-4aa9-b5fc-3594085ec542"
      },
      "source": [
        "%ls"
      ],
      "execution_count": 35,
      "outputs": [
        {
          "output_type": "stream",
          "text": [
            "MyData.zip  my_spotify_data.zip  \u001b[0m\u001b[01;34msample_data\u001b[0m/\n"
          ],
          "name": "stdout"
        }
      ]
    },
    {
      "cell_type": "code",
      "metadata": {
        "id": "b2iSJZV0PbFq",
        "colab_type": "code",
        "colab": {
          "base_uri": "https://localhost:8080/",
          "height": 139
        },
        "outputId": "f5db0746-8645-4dda-9d03-5344ed44f131"
      },
      "source": [
        "# Descomprimiendo\n",
        "!unzip MyData.zip "
      ],
      "execution_count": 36,
      "outputs": [
        {
          "output_type": "stream",
          "text": [
            "Archive:  MyData.zip\n",
            "   creating: MyData/\n",
            "  inflating: MyData/StreamingHistory0.json  \n",
            "  inflating: MyData/StreamingHistory1.json  \n",
            "  inflating: MyData/StreamingHistory2.json  \n",
            "  inflating: MyData/StreamingHistory3.json  \n",
            "  inflating: MyData/StreamingHistory4.json  \n"
          ],
          "name": "stdout"
        }
      ]
    },
    {
      "cell_type": "code",
      "metadata": {
        "id": "KNrG9Q33Pl4p",
        "colab_type": "code",
        "colab": {
          "base_uri": "https://localhost:8080/",
          "height": 191
        },
        "outputId": "23df9ff7-2cbe-49b3-ba96-ded6f690dc22"
      },
      "source": [
        "# que hay dentro...\n",
        "\n",
        "!head MyData/StreamingHistory0.json"
      ],
      "execution_count": 37,
      "outputs": [
        {
          "output_type": "stream",
          "text": [
            "[\n",
            "  {\n",
            "    \"endTime\" : \"2018-12-14 16:29\",\n",
            "    \"artistName\" : \"Ricardo Montaner\",\n",
            "    \"trackName\" : \"Me va a extrañar (aka Unchain My Heart)\",\n",
            "    \"msPlayed\" : 275757\n",
            "  },\n",
            "  {\n",
            "    \"endTime\" : \"2019-02-27 22:46\",\n",
            "    \"artistName\" : \"Sebastian Yatra\",\n"
          ],
          "name": "stdout"
        }
      ]
    },
    {
      "cell_type": "code",
      "metadata": {
        "id": "T1GFiwDV_d9h",
        "colab_type": "code",
        "colab": {}
      },
      "source": [
        "# Algunos imports\n",
        "import calendar\n",
        "import numpy as np\n",
        "import matplotlib.pyplot as plt\n",
        "import seaborn as sns\n",
        "from datetime import timedelta"
      ],
      "execution_count": 0,
      "outputs": []
    },
    {
      "cell_type": "markdown",
      "metadata": {
        "id": "qbWnTYfb7mKG",
        "colab_type": "text"
      },
      "source": [
        "## Los datos  \n",
        "\n",
        "Los archivos dentro de los archivos *json* mencionados anteriormente se ven más o menos así:  \n",
        "\n",
        "\n",
        "```json\n",
        "[\n",
        "  {\n",
        "    \"endTime\" : \"2019-02-04 17:14\",\n",
        "    \"artistName\" : \"MGMT\",\n",
        "    \"trackName\" : \"Time to Pretend\",\n",
        "    \"msPlayed\" : 261000\n",
        "  },\n",
        "  {\n",
        "    \"endTime\" : \"2019-02-04 17:18\",\n",
        "    \"artistName\" : \"MGMT\",\n",
        "\"...\" \n",
        "```  \n",
        "\n",
        "En donde estos son los valores:  \n",
        "\n",
        " - `endTime`: Día y hora en los que finalizó la reproducción, en formato UTC (Tiempo Universal Coordinado).\n",
        " - `artistName`: Nombre del \"creador\" de cada elemento reproducido (por ejemplo, el nombre del artista de una canción).\n",
        " - `trackName`: Nombre de los elementos reproducidos o vistos (por ejemplo, título de una canción o nombre de un video). \n",
        " - `msPlayed`: significa cuántos milisegundos se reprodujo una canción. \n",
        "\n",
        "Para leer estos datos en un DataFrame (que es como los vamos a ocupar más adelante) vamos a hacer uso de esta pequeña función:"
      ]
    },
    {
      "cell_type": "code",
      "metadata": {
        "id": "MKpmYLL9QLnZ",
        "colab_type": "code",
        "colab": {
          "base_uri": "https://localhost:8080/",
          "height": 104
        },
        "outputId": "febe3266-8fd9-41a7-d67c-e75f2cff8f31"
      },
      "source": [
        "%ls MyData/ "
      ],
      "execution_count": 9,
      "outputs": [
        {
          "output_type": "stream",
          "text": [
            " DuoNewFamily.json   Playlist1.json           StreamingHistory2.json\n",
            " FamilyPlan.json    'Read Me First.pdf'       StreamingHistory3.json\n",
            " Follow.json         SearchQueries.json       StreamingHistory4.json\n",
            " Inferences.json     StreamingHistory0.json   Userdata.json\n",
            " Payments.json       StreamingHistory1.json   YourLibrary.json\n"
          ],
          "name": "stdout"
        }
      ]
    },
    {
      "cell_type": "markdown",
      "metadata": {
        "id": "WplFCXv3QQgu",
        "colab_type": "text"
      },
      "source": [
        "Nuestros datos estan dentro de la carpeta `MyData/`"
      ]
    },
    {
      "cell_type": "code",
      "metadata": {
        "id": "4iGoMSaV7kwS",
        "colab_type": "code",
        "outputId": "5d13d167-fdf6-4915-a3ab-05ddbabc7e72",
        "colab": {
          "base_uri": "https://localhost:8080/",
          "height": 206
        }
      },
      "source": [
        "from glob import glob\n",
        "import json\n",
        "import pandas as pd\n",
        "\n",
        "# path donde estan el data\n",
        "\n",
        "data_path = \"./MyData/\"\n",
        "\n",
        "\n",
        "def read_history():\n",
        "    history = []\n",
        "    for file in sorted(glob(data_path + \"/StreamingHistory*.json\")):\n",
        "        with open(file) as readable:\n",
        "            history.extend(json.load(readable))\n",
        "    history = pd.DataFrame(history)\n",
        "    history[\"endTime\"] = pd.to_datetime(history[\"endTime\"])\n",
        "    return history\n",
        "\n",
        "streaming_history = read_history()\n",
        "streaming_history.head(5)"
      ],
      "execution_count": 10,
      "outputs": [
        {
          "output_type": "execute_result",
          "data": {
            "text/html": [
              "<div>\n",
              "<style scoped>\n",
              "    .dataframe tbody tr th:only-of-type {\n",
              "        vertical-align: middle;\n",
              "    }\n",
              "\n",
              "    .dataframe tbody tr th {\n",
              "        vertical-align: top;\n",
              "    }\n",
              "\n",
              "    .dataframe thead th {\n",
              "        text-align: right;\n",
              "    }\n",
              "</style>\n",
              "<table border=\"1\" class=\"dataframe\">\n",
              "  <thead>\n",
              "    <tr style=\"text-align: right;\">\n",
              "      <th></th>\n",
              "      <th>endTime</th>\n",
              "      <th>artistName</th>\n",
              "      <th>trackName</th>\n",
              "      <th>msPlayed</th>\n",
              "    </tr>\n",
              "  </thead>\n",
              "  <tbody>\n",
              "    <tr>\n",
              "      <th>0</th>\n",
              "      <td>2018-12-14 16:29:00</td>\n",
              "      <td>Ricardo Montaner</td>\n",
              "      <td>Me va a extrañar (aka Unchain My Heart)</td>\n",
              "      <td>275757</td>\n",
              "    </tr>\n",
              "    <tr>\n",
              "      <th>1</th>\n",
              "      <td>2019-02-27 22:46:00</td>\n",
              "      <td>Sebastian Yatra</td>\n",
              "      <td>Por Perro</td>\n",
              "      <td>246618</td>\n",
              "    </tr>\n",
              "    <tr>\n",
              "      <th>2</th>\n",
              "      <td>2019-02-27 23:56:00</td>\n",
              "      <td>Reyli Barba</td>\n",
              "      <td>¿Qué Nos Pasó? (with Yuridia)</td>\n",
              "      <td>199701</td>\n",
              "    </tr>\n",
              "    <tr>\n",
              "      <th>3</th>\n",
              "      <td>2019-02-27 23:56:00</td>\n",
              "      <td>Artificial Intelligence (AI Podcast) with Lex ...</td>\n",
              "      <td>Tuomas Sandholm: Poker and Game Theory</td>\n",
              "      <td>5264</td>\n",
              "    </tr>\n",
              "    <tr>\n",
              "      <th>4</th>\n",
              "      <td>2019-02-27 23:56:00</td>\n",
              "      <td>Artificial Intelligence (AI Podcast) with Lex ...</td>\n",
              "      <td>Juergen Schmidhuber: Godel Machines, Meta-Lear...</td>\n",
              "      <td>6086</td>\n",
              "    </tr>\n",
              "  </tbody>\n",
              "</table>\n",
              "</div>"
            ],
            "text/plain": [
              "              endTime  ... msPlayed\n",
              "0 2018-12-14 16:29:00  ...   275757\n",
              "1 2019-02-27 22:46:00  ...   246618\n",
              "2 2019-02-27 23:56:00  ...   199701\n",
              "3 2019-02-27 23:56:00  ...     5264\n",
              "4 2019-02-27 23:56:00  ...     6086\n",
              "\n",
              "[5 rows x 4 columns]"
            ]
          },
          "metadata": {
            "tags": []
          },
          "execution_count": 10
        }
      ]
    },
    {
      "cell_type": "markdown",
      "metadata": {
        "id": "o6WbVK0w-1kh",
        "colab_type": "text"
      },
      "source": [
        "## Histograma \n",
        "\n",
        "Siempre he sido fan de la forma en la que GitHub presenta las contribuciones que cada desarrollador hace en el sitio, y me parece que los datos obtenidos de Spotify, pero antes vamos a tener que modificar los datos un poco.\n",
        "\n",
        "Como no nos interesa la hora en que cada canción terminó, primero vamos a deshacernos de la parte temporal de `endTime`:"
      ]
    },
    {
      "cell_type": "code",
      "metadata": {
        "id": "qG0pdLLA7xhl",
        "colab_type": "code",
        "colab": {}
      },
      "source": [
        "streaming_history[\"date\"] = streaming_history[\"endTime\"].dt.floor('d')"
      ],
      "execution_count": 0,
      "outputs": []
    },
    {
      "cell_type": "markdown",
      "metadata": {
        "id": "xKA2gmRV-_TT",
        "colab_type": "text"
      },
      "source": [
        "Luego vamos a obtener un conteo de canciones por día con `groupby`:"
      ]
    },
    {
      "cell_type": "code",
      "metadata": {
        "id": "qtUctbjU_B48",
        "colab_type": "code",
        "colab": {}
      },
      "source": [
        "by_date = streaming_history.groupby(\"date\")[[\"trackName\"]].count()\n",
        "by_date = by_date.sort_index()"
      ],
      "execution_count": 0,
      "outputs": []
    },
    {
      "cell_type": "markdown",
      "metadata": {
        "id": "Ws_r4kc-_F13",
        "colab_type": "text"
      },
      "source": [
        "Para nuestra gráfica, necesitamos también saber a qué día de la semana y qué número de semana corresponde cada fecha, esto lo obtenemos con las propiedades `week` y `weekday`:"
      ]
    },
    {
      "cell_type": "code",
      "metadata": {
        "id": "UreTHC6B_IGA",
        "colab_type": "code",
        "colab": {}
      },
      "source": [
        "by_date[\"weekday\"] = by_date.index.weekday\n",
        "by_date[\"week\"] = by_date.index.week"
      ],
      "execution_count": 0,
      "outputs": []
    },
    {
      "cell_type": "markdown",
      "metadata": {
        "id": "T1sgo8sz_MLF",
        "colab_type": "text"
      },
      "source": [
        "Y que al final dejará nuestro DataFrame viéndose así:"
      ]
    },
    {
      "cell_type": "code",
      "metadata": {
        "id": "7F3t1nMc_RUz",
        "colab_type": "code",
        "outputId": "74764a7b-aec9-4be6-b29e-16a9cd0e38d7",
        "colab": {
          "base_uri": "https://localhost:8080/",
          "height": 238
        }
      },
      "source": [
        "by_date.head()"
      ],
      "execution_count": 14,
      "outputs": [
        {
          "output_type": "execute_result",
          "data": {
            "text/html": [
              "<div>\n",
              "<style scoped>\n",
              "    .dataframe tbody tr th:only-of-type {\n",
              "        vertical-align: middle;\n",
              "    }\n",
              "\n",
              "    .dataframe tbody tr th {\n",
              "        vertical-align: top;\n",
              "    }\n",
              "\n",
              "    .dataframe thead th {\n",
              "        text-align: right;\n",
              "    }\n",
              "</style>\n",
              "<table border=\"1\" class=\"dataframe\">\n",
              "  <thead>\n",
              "    <tr style=\"text-align: right;\">\n",
              "      <th></th>\n",
              "      <th>trackName</th>\n",
              "      <th>weekday</th>\n",
              "      <th>week</th>\n",
              "    </tr>\n",
              "    <tr>\n",
              "      <th>date</th>\n",
              "      <th></th>\n",
              "      <th></th>\n",
              "      <th></th>\n",
              "    </tr>\n",
              "  </thead>\n",
              "  <tbody>\n",
              "    <tr>\n",
              "      <th>2018-12-14</th>\n",
              "      <td>1</td>\n",
              "      <td>4</td>\n",
              "      <td>50</td>\n",
              "    </tr>\n",
              "    <tr>\n",
              "      <th>2019-02-27</th>\n",
              "      <td>4</td>\n",
              "      <td>2</td>\n",
              "      <td>9</td>\n",
              "    </tr>\n",
              "    <tr>\n",
              "      <th>2019-02-28</th>\n",
              "      <td>211</td>\n",
              "      <td>3</td>\n",
              "      <td>9</td>\n",
              "    </tr>\n",
              "    <tr>\n",
              "      <th>2019-03-01</th>\n",
              "      <td>120</td>\n",
              "      <td>4</td>\n",
              "      <td>9</td>\n",
              "    </tr>\n",
              "    <tr>\n",
              "      <th>2019-03-02</th>\n",
              "      <td>16</td>\n",
              "      <td>5</td>\n",
              "      <td>9</td>\n",
              "    </tr>\n",
              "  </tbody>\n",
              "</table>\n",
              "</div>"
            ],
            "text/plain": [
              "            trackName  weekday  week\n",
              "date                                \n",
              "2018-12-14          1        4    50\n",
              "2019-02-27          4        2     9\n",
              "2019-02-28        211        3     9\n",
              "2019-03-01        120        4     9\n",
              "2019-03-02         16        5     9"
            ]
          },
          "metadata": {
            "tags": []
          },
          "execution_count": 14
        }
      ]
    },
    {
      "cell_type": "markdown",
      "metadata": {
        "id": "qU3rceEC_T8W",
        "colab_type": "text"
      },
      "source": [
        "Hasta el momento ya tenemos casi todo, lo que falta es obtener números continuos para la semana, es decir, en el frame de arriba la semana 6 de 2019 debe ser la semana 0, la semana 7 debe ser la semana 1... a mi no se me ocurre otra manera de hacerlo más que con un ciclo `for`:"
      ]
    },
    {
      "cell_type": "code",
      "metadata": {
        "id": "wfA7Sjo2_UWG",
        "colab_type": "code",
        "outputId": "50eb4c75-b363-4e47-d4e5-5f068f4998eb",
        "colab": {
          "base_uri": "https://localhost:8080/",
          "height": 238
        }
      },
      "source": [
        "week = 0\n",
        "prev_week = by_date.iloc[0][\"week\"]\n",
        "continuous_week = np.zeros(len(by_date)).astype(int)\n",
        "sunday_dates = []\n",
        "for i, (_, row) in enumerate(by_date.iterrows()):\n",
        "    if row[\"week\"] != prev_week:\n",
        "        week += 1\n",
        "        prev_week = row[\"week\"]\n",
        "    continuous_week[i] = week\n",
        "by_date[\"continuous_week\"] = continuous_week \n",
        "by_date.head()"
      ],
      "execution_count": 15,
      "outputs": [
        {
          "output_type": "execute_result",
          "data": {
            "text/html": [
              "<div>\n",
              "<style scoped>\n",
              "    .dataframe tbody tr th:only-of-type {\n",
              "        vertical-align: middle;\n",
              "    }\n",
              "\n",
              "    .dataframe tbody tr th {\n",
              "        vertical-align: top;\n",
              "    }\n",
              "\n",
              "    .dataframe thead th {\n",
              "        text-align: right;\n",
              "    }\n",
              "</style>\n",
              "<table border=\"1\" class=\"dataframe\">\n",
              "  <thead>\n",
              "    <tr style=\"text-align: right;\">\n",
              "      <th></th>\n",
              "      <th>trackName</th>\n",
              "      <th>weekday</th>\n",
              "      <th>week</th>\n",
              "      <th>continuous_week</th>\n",
              "    </tr>\n",
              "    <tr>\n",
              "      <th>date</th>\n",
              "      <th></th>\n",
              "      <th></th>\n",
              "      <th></th>\n",
              "      <th></th>\n",
              "    </tr>\n",
              "  </thead>\n",
              "  <tbody>\n",
              "    <tr>\n",
              "      <th>2018-12-14</th>\n",
              "      <td>1</td>\n",
              "      <td>4</td>\n",
              "      <td>50</td>\n",
              "      <td>0</td>\n",
              "    </tr>\n",
              "    <tr>\n",
              "      <th>2019-02-27</th>\n",
              "      <td>4</td>\n",
              "      <td>2</td>\n",
              "      <td>9</td>\n",
              "      <td>1</td>\n",
              "    </tr>\n",
              "    <tr>\n",
              "      <th>2019-02-28</th>\n",
              "      <td>211</td>\n",
              "      <td>3</td>\n",
              "      <td>9</td>\n",
              "      <td>1</td>\n",
              "    </tr>\n",
              "    <tr>\n",
              "      <th>2019-03-01</th>\n",
              "      <td>120</td>\n",
              "      <td>4</td>\n",
              "      <td>9</td>\n",
              "      <td>1</td>\n",
              "    </tr>\n",
              "    <tr>\n",
              "      <th>2019-03-02</th>\n",
              "      <td>16</td>\n",
              "      <td>5</td>\n",
              "      <td>9</td>\n",
              "      <td>1</td>\n",
              "    </tr>\n",
              "  </tbody>\n",
              "</table>\n",
              "</div>"
            ],
            "text/plain": [
              "            trackName  weekday  week  continuous_week\n",
              "date                                                 \n",
              "2018-12-14          1        4    50                0\n",
              "2019-02-27          4        2     9                1\n",
              "2019-02-28        211        3     9                1\n",
              "2019-03-01        120        4     9                1\n",
              "2019-03-02         16        5     9                1"
            ]
          },
          "metadata": {
            "tags": []
          },
          "execution_count": 15
        }
      ]
    },
    {
      "cell_type": "markdown",
      "metadata": {
        "id": "07XuIlKn_pG5",
        "colab_type": "text"
      },
      "source": [
        "El siguiente paso es preparar, con NumPy, una matriz de tamaño `días ✕ semanas` en donde cada una de las entradas será la cantidad de canciones que escuchamos en ese día, de esa semana:"
      ]
    },
    {
      "cell_type": "code",
      "metadata": {
        "id": "R1jHHenG_qAy",
        "colab_type": "code",
        "colab": {}
      },
      "source": [
        "songs = np.full((7, continuous_week.max()+1), np.nan)\n",
        "\n",
        "for index, row in by_date.iterrows():\n",
        "    songs[row[\"weekday\"]][row[\"continuous_week\"]] = row[\"trackName\"]"
      ],
      "execution_count": 0,
      "outputs": []
    },
    {
      "cell_type": "markdown",
      "metadata": {
        "id": "sGQVE8Id_vkb",
        "colab_type": "text"
      },
      "source": [
        "Ahora, simplemente podríamos graficar el la matriz `songs`, sin embargo el resultado no es tan agradable:"
      ]
    },
    {
      "cell_type": "code",
      "metadata": {
        "id": "yjKUH9bV_tsX",
        "colab_type": "code",
        "outputId": "b224e5ce-f9a2-4b50-9010-fddd20d61b7e",
        "colab": {
          "base_uri": "https://localhost:8080/",
          "height": 282
        }
      },
      "source": [
        "sns.heatmap(songs)"
      ],
      "execution_count": 17,
      "outputs": [
        {
          "output_type": "execute_result",
          "data": {
            "text/plain": [
              "<matplotlib.axes._subplots.AxesSubplot at 0x7f4161942ef0>"
            ]
          },
          "metadata": {
            "tags": []
          },
          "execution_count": 17
        },
        {
          "output_type": "display_data",
          "data": {
            "image/png": "[encoded data removed]",
            "text/plain": [
              "<Figure size 432x288 with 2 Axes>"
            ]
          },
          "metadata": {
            "tags": []
          }
        }
      ]
    },
    {
      "cell_type": "markdown",
      "metadata": {
        "id": "VWI8TbqOANxj",
        "colab_type": "text"
      },
      "source": [
        "Lo que podemos hacer para mejorarlo requiere de un poco más de código. Lo primero es limpiar un poco las etiquetas de los ejes:"
      ]
    },
    {
      "cell_type": "code",
      "metadata": {
        "id": "Pac4TRZyARkk",
        "colab_type": "code",
        "colab": {}
      },
      "source": [
        "min_date = streaming_history[\"endTime\"].min()\n",
        "first_monday = min_date - timedelta(min_date.weekday())\n",
        "mons = [first_monday + timedelta(weeks=wk) for wk in range(continuous_week.max())]\n",
        "x_labels = [calendar.month_abbr[mons[0].month]]\n",
        "x_labels.extend([\n",
        "    calendar.month_abbr[mons[i].month] if mons[i-1].month != mons[i].month else \"\" \n",
        "    for i in range(1, len(mons))])\n",
        "\n",
        "y_labels = [\"Mon\", \"\", \"Wed\", \"\", \"Fri\", \"\", \"Sun\"]"
      ],
      "execution_count": 0,
      "outputs": []
    },
    {
      "cell_type": "markdown",
      "metadata": {
        "id": "kd8BaY-YAi1P",
        "colab_type": "text"
      },
      "source": [
        "Definitivamente las etiquetas del eje de las X son mucho más complicado que las de Y, ya que no son continuas ni fijas, deben ser calculadas de acuerdo a los datos (si queres un poco más de explicación sobre el código, dime en [@io_exception](https://twitter.com/io_exception)).\n",
        "\n",
        "Después vamos a hacer un poco de *grafimagia* con el tamaño de la gráfica, colores y los ejes. Y ya por último, usaremos el `heatmap` de *seaborn* con algunos cuantos argumentos que explicaré más adelante y desde luego, no olvides que hay que poner las etiquetas que tanto nos costó conseguir:\n"
      ]
    },
    {
      "cell_type": "code",
      "metadata": {
        "id": "mXAASU-pA7qR",
        "colab_type": "code",
        "outputId": "14461275-86cd-4f3d-de7b-871370f02e2f",
        "colab": {
          "base_uri": "https://localhost:8080/",
          "height": 231
        }
      },
      "source": [
        "fig = plt.figure(figsize=(20,5))\n",
        "ax = plt.subplot()\n",
        "\n",
        "ax.set_title(\"My year on Spotify\", fontsize=20,pad=40)\n",
        "ax.xaxis.tick_top()\n",
        "ax.tick_params(axis='both', which='both',length=0)\n",
        "ax.set_facecolor(\"#ebedf0\") \n",
        "fig.patch.set_facecolor('white')\n",
        "\n",
        "sns.heatmap(songs, linewidths=2, linecolor='white', square=True,\n",
        "            mask=np.isnan(songs), cmap=\"Greens\",\n",
        "            vmin=0, vmax=50, cbar=False, ax=ax)\n",
        "\n",
        "ax.set_yticklabels(y_labels, rotation=0)\n",
        "ax.set_xticklabels(x_labels, ha=\"left\")\n",
        "pass"
      ],
      "execution_count": 19,
      "outputs": [
        {
          "output_type": "display_data",
          "data": {
            "image/png": "[encoded data removed]",
            "text/plain": [
              "<Figure size 1440x360 with 1 Axes>"
            ]
          },
          "metadata": {
            "tags": []
          }
        }
      ]
    },
    {
      "cell_type": "markdown",
      "metadata": {
        "id": "yCPUNyRye3AR",
        "colab_type": "text"
      },
      "source": [
        "Esto es escuchar música todos los dias."
      ]
    },
    {
      "cell_type": "markdown",
      "metadata": {
        "id": "jHu-pc1IBIfT",
        "colab_type": "text"
      },
      "source": [
        "Los argumentos:  \n",
        "\n",
        " - `songs`: nuestra matriz de `días ✕ semanas` con la cuenta de canciones por día,  \n",
        " - `linewidths`: el tamaño de la separación entre cada recuadro,  \n",
        " - `linecolor`: el color de la separación entre cada recuadro,  \n",
        " - `square`: le indica a la función que queremos que se respete la relación `1:1` en el tamaño de cada recuadro,  \n",
        " - `mask`: este es un argumento bastante interesante, ya que nos va a ayudar a \"enmascarar\" llos recuadros para los que no tenemos información. Lo establecemos a una matriz de valores booleanos (de tamaño `días ✕ semanas`), en donde cada `True` significa que no hay información para dicho día/semana\n",
        " - `cmap`: el *colormap* que se debe aplicar, curiosamente \"Greens\" coincide bastante con la coloración que usa GitHub,  \n",
        " - `vmin`: el valor que consideramos como el mínimo de entre todos nuestros valores,\n",
        " - `vmax`: el valor que consideramos máximo de entre todos nuestros valores, en mi caso considero que 100 canciones es el máximo, ¡a pesar de que mi récord es de 190 en un día!\n",
        " - `cbar`: valor *booleano* para indicar si queremos o no mostrar la barra de color que usualmente acompaña a el *heatmap*,\n",
        " - `ax`: el *axes* sobre el que se debe dibujar la gráfica.\n",
        "\n",
        "Y *voilà*, nuestra gráfica está lista.\n",
        "\n",
        "Ya quedará en ti modificar algunos aspectos de la gráfica, tal vez ponerle información acerca de la cantidad de canciones, habilitar la barra de color... otra gran idea sería hacer lo mismo pero en un framework como D3.js, pero eso ya queda para otro post. Por lo mientras, te invito a jugar con los datos en este Google Colab Notebook y a que me contactes [vía twitter en @io_exception](https://twitter.com/io_exception)."
      ]
    },
    {
      "cell_type": "markdown",
      "metadata": {
        "id": "MLJscTGWS0pf",
        "colab_type": "text"
      },
      "source": [
        "# BONUS \n",
        "\n",
        "## Artitas que mas escucho.\n",
        "\n",
        "Adicionalmente tengo creada esta clase que me ayudara a plotear por frecuencia las veces que tengo escuchando a X artista.\n"
      ]
    },
    {
      "cell_type": "markdown",
      "metadata": {
        "id": "kQc28bHeRjIm",
        "colab_type": "text"
      },
      "source": [
        "Los datos que voy a utilizar son del dataframe `streaming_history`de arriba\n"
      ]
    },
    {
      "cell_type": "code",
      "metadata": {
        "id": "hEQg41uvRolJ",
        "colab_type": "code",
        "colab": {
          "base_uri": "https://localhost:8080/",
          "height": 206
        },
        "outputId": "89a9e00a-7a78-4c30-97ab-0dc1e4f10035"
      },
      "source": [
        "streaming_history.head()"
      ],
      "execution_count": 20,
      "outputs": [
        {
          "output_type": "execute_result",
          "data": {
            "text/html": [
              "<div>\n",
              "<style scoped>\n",
              "    .dataframe tbody tr th:only-of-type {\n",
              "        vertical-align: middle;\n",
              "    }\n",
              "\n",
              "    .dataframe tbody tr th {\n",
              "        vertical-align: top;\n",
              "    }\n",
              "\n",
              "    .dataframe thead th {\n",
              "        text-align: right;\n",
              "    }\n",
              "</style>\n",
              "<table border=\"1\" class=\"dataframe\">\n",
              "  <thead>\n",
              "    <tr style=\"text-align: right;\">\n",
              "      <th></th>\n",
              "      <th>endTime</th>\n",
              "      <th>artistName</th>\n",
              "      <th>trackName</th>\n",
              "      <th>msPlayed</th>\n",
              "      <th>date</th>\n",
              "    </tr>\n",
              "  </thead>\n",
              "  <tbody>\n",
              "    <tr>\n",
              "      <th>0</th>\n",
              "      <td>2018-12-14 16:29:00</td>\n",
              "      <td>Ricardo Montaner</td>\n",
              "      <td>Me va a extrañar (aka Unchain My Heart)</td>\n",
              "      <td>275757</td>\n",
              "      <td>2018-12-14</td>\n",
              "    </tr>\n",
              "    <tr>\n",
              "      <th>1</th>\n",
              "      <td>2019-02-27 22:46:00</td>\n",
              "      <td>Sebastian Yatra</td>\n",
              "      <td>Por Perro</td>\n",
              "      <td>246618</td>\n",
              "      <td>2019-02-27</td>\n",
              "    </tr>\n",
              "    <tr>\n",
              "      <th>2</th>\n",
              "      <td>2019-02-27 23:56:00</td>\n",
              "      <td>Reyli Barba</td>\n",
              "      <td>¿Qué Nos Pasó? (with Yuridia)</td>\n",
              "      <td>199701</td>\n",
              "      <td>2019-02-27</td>\n",
              "    </tr>\n",
              "    <tr>\n",
              "      <th>3</th>\n",
              "      <td>2019-02-27 23:56:00</td>\n",
              "      <td>Artificial Intelligence (AI Podcast) with Lex ...</td>\n",
              "      <td>Tuomas Sandholm: Poker and Game Theory</td>\n",
              "      <td>5264</td>\n",
              "      <td>2019-02-27</td>\n",
              "    </tr>\n",
              "    <tr>\n",
              "      <th>4</th>\n",
              "      <td>2019-02-27 23:56:00</td>\n",
              "      <td>Artificial Intelligence (AI Podcast) with Lex ...</td>\n",
              "      <td>Juergen Schmidhuber: Godel Machines, Meta-Lear...</td>\n",
              "      <td>6086</td>\n",
              "      <td>2019-02-27</td>\n",
              "    </tr>\n",
              "  </tbody>\n",
              "</table>\n",
              "</div>"
            ],
            "text/plain": [
              "              endTime  ...       date\n",
              "0 2018-12-14 16:29:00  ... 2018-12-14\n",
              "1 2019-02-27 22:46:00  ... 2019-02-27\n",
              "2 2019-02-27 23:56:00  ... 2019-02-27\n",
              "3 2019-02-27 23:56:00  ... 2019-02-27\n",
              "4 2019-02-27 23:56:00  ... 2019-02-27\n",
              "\n",
              "[5 rows x 5 columns]"
            ]
          },
          "metadata": {
            "tags": []
          },
          "execution_count": 20
        }
      ]
    },
    {
      "cell_type": "code",
      "metadata": {
        "id": "MVioVmRRR96e",
        "colab_type": "code",
        "colab": {
          "base_uri": "https://localhost:8080/",
          "height": 34
        },
        "outputId": "c44218c7-7ee6-4c99-d7e9-d6d8bf0cc369"
      },
      "source": [
        "streaming_history.shape"
      ],
      "execution_count": 22,
      "outputs": [
        {
          "output_type": "execute_result",
          "data": {
            "text/plain": [
              "(40908, 5)"
            ]
          },
          "metadata": {
            "tags": []
          },
          "execution_count": 22
        }
      ]
    },
    {
      "cell_type": "markdown",
      "metadata": {
        "id": "AFX_xQueRrGv",
        "colab_type": "text"
      },
      "source": [
        "La columna de interes va ser `artistName`"
      ]
    },
    {
      "cell_type": "code",
      "metadata": {
        "id": "GdGiu6U7RKex",
        "colab_type": "code",
        "colab": {
          "base_uri": "https://localhost:8080/",
          "height": 821
        },
        "outputId": "3984dd84-1c55-4013-f689-b58ac5905f22"
      },
      "source": [
        "import seaborn as sns\n",
        "\n",
        "class PlotCommenter:\n",
        "    \"\"\"\n",
        "    Plot Top N words in a given column dataframe\n",
        "    \"\"\"\n",
        "    def __init__(self, target_column=\"commenter\"):\n",
        "        self.target_column = target_column\n",
        "    \n",
        "    def get_sorted_tuits(self, counts, top_n=25):\n",
        "        sorted_twitts =  sorted(counts.items(), key= lambda kv:(kv[1], kv[0]))[::-1][:top_n]\n",
        "        \n",
        "        for i, (k,v) in enumerate( sorted_twitts[1:]):\n",
        "            print(str(i) + \"-\", \"Artista: \", k, \"   |||\",  \"Plays: \", v)\n",
        "        return sorted_twitts\n",
        "    \n",
        "    def create_df_counts(self, sorted_twitts):\n",
        "        \n",
        "        df_x = pd.DataFrame(sorted_twitts, columns=[\"label\", \"count\"])\n",
        "        df_x[\"index\"] = df_x.index\n",
        "\n",
        "        df_x.index = list(df_x[\"label\"])\n",
        "\n",
        "        df_x = df_x.sort_values(['count'], ascending=False)\n",
        "\n",
        "        return df_x\n",
        "    \n",
        "    \n",
        "    def get_uniques_and_user_names(self, df):\n",
        "        \n",
        "        #user_names = df[\"commenter\"].apply(self.deEmojify)\n",
        "        user_names = df[self.target_column]\n",
        "        #user_names = user_names.str.replace(\" \", \"\")\n",
        "\n",
        "        uniques = user_names.unique()\n",
        "        return uniques, user_names\n",
        "    \n",
        "    def plot_word_count(self, df, titley='Number of Comments', titlex=\"Names\", title=\"Message frec\"):\n",
        "        plt.figure(figsize=(10,6))\n",
        "        ax = sns.barplot(x=\"index\", y=\"count\", data=df, order=df['index'])\n",
        "        ax.set_xlabel(titlex)\n",
        "        ax.set_ylabel(titley)\n",
        "        ax.set_xticklabels(df['label'], rotation='vertical', fontsize=10)  \n",
        "        \n",
        "        #plt.savefig(self.data_path + \"/\" + title + \".png\", format=\"png\", bbox_inches = 'tight')\n",
        "        \n",
        "    def create_sorted_counts(self, user_names, top_n=25):\n",
        "        \n",
        "        # Count for N\n",
        "        counts = self.get_counts(user_names)\n",
        "        sorted_counts = self.get_sorted_tuits(counts, top_n = top_n)\n",
        "        \n",
        "        return sorted_counts\n",
        "    \n",
        "    \n",
        "    def get_counts(self, user_names):\n",
        "        \n",
        "        counts = {}\n",
        "        for u in user_names:\n",
        "            counts[u] = []\n",
        "\n",
        "        for u in user_names:\n",
        "            counts[u].append(u)\n",
        "        for k,v in counts.items():\n",
        "            counts[k] = len(v)\n",
        "            \n",
        "        return counts\n",
        "    \n",
        "    def create_top_N_users(self, sorted_tuits, n=21):\n",
        "            \n",
        "        # Word Frecuency for N\n",
        "        df_x = self.create_df_counts(sorted_tuits)\n",
        "        \n",
        "        # Plot For N\n",
        "        topN = df_x.iloc[1:n]\n",
        "        \n",
        "        return topN\n",
        "    \n",
        "    def main(self, df, top_n = 21):\n",
        "        \n",
        "        self.uniques, self.user_names = self.get_uniques_and_user_names(df)\n",
        "        self.sorted_counts = self.create_sorted_counts(self.user_names, top_n=top_n)\n",
        "        top20 = self.create_top_N_users(self.sorted_counts, n=top_n)\n",
        "            \n",
        "        \n",
        "        self.plot_word_count(top20, \n",
        "                             titley='Number of Plays',\n",
        "                             titlex=\"Artists\",\n",
        "                             title=\"Message frec\")\n",
        "        \n",
        "plot_top_commenter = PlotCommenter(target_column = \"artistName\")\n",
        "\n",
        "plot_top_commenter.main(streaming_history, top_n = 20)"
      ],
      "execution_count": 38,
      "outputs": [
        {
          "output_type": "stream",
          "text": [
            "0- Artista:  Río Roma    ||| Plays:  1310\n",
            "1- Artista:  Reik    ||| Plays:  1258\n",
            "2- Artista:  Prince Royce    ||| Plays:  1005\n",
            "3- Artista:  Sebastian Yatra    ||| Plays:  696\n",
            "4- Artista:  Maluma    ||| Plays:  539\n",
            "5- Artista:  Daniel Santacruz    ||| Plays:  529\n",
            "6- Artista:  Luciano Pereyra    ||| Plays:  504\n",
            "7- Artista:  MYA    ||| Plays:  484\n",
            "8- Artista:  Romeo Santos    ||| Plays:  471\n",
            "9- Artista:  Piso 21    ||| Plays:  468\n",
            "10- Artista:  Dani J    ||| Plays:  456\n",
            "11- Artista:  CNCO    ||| Plays:  414\n",
            "12- Artista:  Aventura    ||| Plays:  398\n",
            "13- Artista:  Linkin Park    ||| Plays:  396\n",
            "14- Artista:  Marc Anthony    ||| Plays:  369\n",
            "15- Artista:  Américo    ||| Plays:  342\n",
            "16- Artista:  Kewin Cosmos    ||| Plays:  331\n",
            "17- Artista:  Los Angeles Azules    ||| Plays:  328\n",
            "18- Artista:  Adolescent's Orquesta    ||| Plays:  302\n"
          ],
          "name": "stdout"
        },
        {
          "output_type": "display_data",
          "data": {
            "image/png": "[encoded data removed]",
            "text/plain": [
              "<Figure size 720x432 with 1 Axes>"
            ]
          },
          "metadata": {
            "tags": []
          }
        }
      ]
    },
    {
      "cell_type": "markdown",
      "metadata": {
        "id": "zKgct1ZGew_i",
        "colab_type": "text"
      },
      "source": [
        "Es puro Pop al final ..."
      ]
    },
    {
      "cell_type": "markdown",
      "metadata": {
        "id": "kakeJN_HTkuD",
        "colab_type": "text"
      },
      "source": [
        "# TODO \n",
        "* Time Series for each artist"
      ]
    }
  ]
}